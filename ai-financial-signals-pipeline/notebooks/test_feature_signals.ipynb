{
 "cells": [
  {
   "cell_type": "code",
   "execution_count": 1,
   "id": "5a2bfa09",
   "metadata": {},
   "outputs": [
    {
     "name": "stderr",
     "output_type": "stream",
     "text": [
      "/Users/jamespecore/Documents/Github/data_engineering_portfolio_2025/ai-financial-signals-pipeline/notebooks/../src/data/loader.py:37: FutureWarning: YF.download() has changed argument auto_adjust default to True\n",
      "  df = yf.download(ticker, period=period, interval=interval, progress=False)\n"
     ]
    }
   ],
   "source": [
    "import sys\n",
    "sys.path.append('../')\n",
    "\n",
    "from src.data.loader import get_equity_data\n",
    "from src.features.signals import add_sma, add_rsi, add_momentum, add_macd\n",
    "df_stock = get_equity_data(\"AAPL\", period=\"6mo\")"
   ]
  },
  {
   "cell_type": "code",
   "execution_count": 2,
   "id": "09068a8a",
   "metadata": {},
   "outputs": [],
   "source": [
    "df_stock = add_sma(df_stock, 20)"
   ]
  },
  {
   "cell_type": "code",
   "execution_count": 3,
   "id": "4a0b731a",
   "metadata": {},
   "outputs": [],
   "source": [
    "df_stock = add_rsi(df_stock, 14)"
   ]
  },
  {
   "cell_type": "code",
   "execution_count": 4,
   "id": "1c496112",
   "metadata": {},
   "outputs": [],
   "source": [
    "df_stock = add_momentum(df_stock, 10)"
   ]
  },
  {
   "cell_type": "code",
   "execution_count": 6,
   "id": "73376873",
   "metadata": {},
   "outputs": [],
   "source": [
    "df_stock = add_macd(df_stock)"
   ]
  },
  {
   "cell_type": "code",
   "execution_count": 7,
   "id": "f2a33f21",
   "metadata": {},
   "outputs": [
    {
     "data": {
      "text/html": [
       "<div>\n",
       "<style scoped>\n",
       "    .dataframe tbody tr th:only-of-type {\n",
       "        vertical-align: middle;\n",
       "    }\n",
       "\n",
       "    .dataframe tbody tr th {\n",
       "        vertical-align: top;\n",
       "    }\n",
       "\n",
       "    .dataframe thead tr th {\n",
       "        text-align: left;\n",
       "    }\n",
       "</style>\n",
       "<table border=\"1\" class=\"dataframe\">\n",
       "  <thead>\n",
       "    <tr>\n",
       "      <th>Price</th>\n",
       "      <th>Date</th>\n",
       "      <th>Close</th>\n",
       "      <th>High</th>\n",
       "      <th>Low</th>\n",
       "      <th>Open</th>\n",
       "      <th>Volume</th>\n",
       "      <th>sma_20</th>\n",
       "      <th>rsi_14</th>\n",
       "      <th>momentum_10</th>\n",
       "      <th>macd</th>\n",
       "      <th>macd_signal</th>\n",
       "    </tr>\n",
       "    <tr>\n",
       "      <th>Ticker</th>\n",
       "      <th></th>\n",
       "      <th>AAPL</th>\n",
       "      <th>AAPL</th>\n",
       "      <th>AAPL</th>\n",
       "      <th>AAPL</th>\n",
       "      <th>AAPL</th>\n",
       "      <th></th>\n",
       "      <th></th>\n",
       "      <th></th>\n",
       "      <th></th>\n",
       "      <th></th>\n",
       "    </tr>\n",
       "  </thead>\n",
       "  <tbody>\n",
       "    <tr>\n",
       "      <th>118</th>\n",
       "      <td>2025-07-11</td>\n",
       "      <td>211.160004</td>\n",
       "      <td>212.130005</td>\n",
       "      <td>209.860001</td>\n",
       "      <td>210.570007</td>\n",
       "      <td>39765800</td>\n",
       "      <td>204.319000</td>\n",
       "      <td>71.727976</td>\n",
       "      <td>10.160004</td>\n",
       "      <td>NaN</td>\n",
       "      <td>NaN</td>\n",
       "    </tr>\n",
       "    <tr>\n",
       "      <th>119</th>\n",
       "      <td>2025-07-14</td>\n",
       "      <td>208.619995</td>\n",
       "      <td>210.910004</td>\n",
       "      <td>207.539993</td>\n",
       "      <td>209.929993</td>\n",
       "      <td>38840100</td>\n",
       "      <td>204.790000</td>\n",
       "      <td>64.004704</td>\n",
       "      <td>7.539993</td>\n",
       "      <td>NaN</td>\n",
       "      <td>NaN</td>\n",
       "    </tr>\n",
       "    <tr>\n",
       "      <th>120</th>\n",
       "      <td>2025-07-15</td>\n",
       "      <td>209.110001</td>\n",
       "      <td>211.889999</td>\n",
       "      <td>208.919998</td>\n",
       "      <td>209.220001</td>\n",
       "      <td>42296300</td>\n",
       "      <td>205.423000</td>\n",
       "      <td>67.826770</td>\n",
       "      <td>3.940002</td>\n",
       "      <td>NaN</td>\n",
       "      <td>NaN</td>\n",
       "    </tr>\n",
       "    <tr>\n",
       "      <th>121</th>\n",
       "      <td>2025-07-16</td>\n",
       "      <td>210.160004</td>\n",
       "      <td>212.399994</td>\n",
       "      <td>208.639999</td>\n",
       "      <td>210.300003</td>\n",
       "      <td>47490500</td>\n",
       "      <td>206.010001</td>\n",
       "      <td>67.551011</td>\n",
       "      <td>2.339996</td>\n",
       "      <td>NaN</td>\n",
       "      <td>NaN</td>\n",
       "    </tr>\n",
       "    <tr>\n",
       "      <th>122</th>\n",
       "      <td>2025-07-17</td>\n",
       "      <td>210.020004</td>\n",
       "      <td>211.800003</td>\n",
       "      <td>209.589996</td>\n",
       "      <td>210.625000</td>\n",
       "      <td>47738194</td>\n",
       "      <td>206.729001</td>\n",
       "      <td>68.729220</td>\n",
       "      <td>-2.419998</td>\n",
       "      <td>NaN</td>\n",
       "      <td>NaN</td>\n",
       "    </tr>\n",
       "  </tbody>\n",
       "</table>\n",
       "</div>"
      ],
      "text/plain": [
       "Price        Date       Close        High         Low        Open    Volume  \\\n",
       "Ticker                   AAPL        AAPL        AAPL        AAPL      AAPL   \n",
       "118    2025-07-11  211.160004  212.130005  209.860001  210.570007  39765800   \n",
       "119    2025-07-14  208.619995  210.910004  207.539993  209.929993  38840100   \n",
       "120    2025-07-15  209.110001  211.889999  208.919998  209.220001  42296300   \n",
       "121    2025-07-16  210.160004  212.399994  208.639999  210.300003  47490500   \n",
       "122    2025-07-17  210.020004  211.800003  209.589996  210.625000  47738194   \n",
       "\n",
       "Price       sma_20     rsi_14 momentum_10 macd macd_signal  \n",
       "Ticker                                                      \n",
       "118     204.319000  71.727976   10.160004  NaN         NaN  \n",
       "119     204.790000  64.004704    7.539993  NaN         NaN  \n",
       "120     205.423000  67.826770    3.940002  NaN         NaN  \n",
       "121     206.010001  67.551011    2.339996  NaN         NaN  \n",
       "122     206.729001  68.729220   -2.419998  NaN         NaN  "
      ]
     },
     "execution_count": 7,
     "metadata": {},
     "output_type": "execute_result"
    }
   ],
   "source": [
    "df_stock.tail()"
   ]
  }
 ],
 "metadata": {
  "kernelspec": {
   "display_name": "base",
   "language": "python",
   "name": "python3"
  },
  "language_info": {
   "codemirror_mode": {
    "name": "ipython",
    "version": 3
   },
   "file_extension": ".py",
   "mimetype": "text/x-python",
   "name": "python",
   "nbconvert_exporter": "python",
   "pygments_lexer": "ipython3",
   "version": "3.11.7"
  }
 },
 "nbformat": 4,
 "nbformat_minor": 5
}
